{
  "nbformat": 4,
  "nbformat_minor": 0,
  "metadata": {
    "colab": {
      "name": "Mini_Project.ipynb",
      "provenance": [],
      "collapsed_sections": [],
      "mount_file_id": "1uMZfAXG0O-HKTFKJL_wkCLpF6EqTudVX",
      "authorship_tag": "ABX9TyMLv6qakQ4TgJFLo14HDfDC",
      "include_colab_link": true
    },
    "kernelspec": {
      "display_name": "Python 3",
      "name": "python3"
    },
    "language_info": {
      "name": "python"
    }
  },
  "cells": [
    {
      "cell_type": "markdown",
      "metadata": {
        "id": "view-in-github",
        "colab_type": "text"
      },
      "source": [
        "<a href=\"https://colab.research.google.com/github/honey-python-world/Project_Repository/blob/main/Mini_Project.ipynb\" target=\"_parent\"><img src=\"https://colab.research.google.com/assets/colab-badge.svg\" alt=\"Open In Colab\"/></a>"
      ]
    },
    {
      "cell_type": "code",
      "metadata": {
        "id": "ekFWUXi-ckEu"
      },
      "source": [
        "# Data : Images  \n",
        "# 1.Download manually the images from the google\n",
        "# 2. Download dataset from kaggle.com\n",
        "# 3. build a Image web Crawler\n",
        "# 4.use Python libaries to scrape the images (using)\n"
      ],
      "execution_count": 1,
      "outputs": []
    },
    {
      "cell_type": "code",
      "metadata": {
        "colab": {
          "base_uri": "https://localhost:8080/"
        },
        "id": "jGJUGnQCdwS4",
        "outputId": "26bf4587-c1ed-4167-b506-26e2df382ed8"
      },
      "source": [
        "import numpy as np\n",
        "a = np.array([[1,2,3,4,5,],[5,6,7,8,9]])\n",
        "a.ndim"
      ],
      "execution_count": 2,
      "outputs": [
        {
          "output_type": "execute_result",
          "data": {
            "text/plain": [
              "2"
            ]
          },
          "metadata": {
            "tags": []
          },
          "execution_count": 2
        }
      ]
    },
    {
      "cell_type": "code",
      "metadata": {
        "colab": {
          "base_uri": "https://localhost:8080/"
        },
        "id": "bMPO0fcy3zUO",
        "outputId": "2d56156b-6e0b-4bae-e7b1-4062a3d31fe8"
      },
      "source": [
        "# How  do i convert Matrix to vector ? - flatten()\n",
        "a.flatten()"
      ],
      "execution_count": 3,
      "outputs": [
        {
          "output_type": "execute_result",
          "data": {
            "text/plain": [
              "array([1, 2, 3, 4, 5, 5, 6, 7, 8, 9])"
            ]
          },
          "metadata": {
            "tags": []
          },
          "execution_count": 3
        }
      ]
    },
    {
      "cell_type": "code",
      "metadata": {
        "id": "Nf-OTB9f33Lu"
      },
      "source": [
        "4# Step 2:\n",
        "# Prepocessing\n",
        "# 1. resize\n",
        "# 2. faltten\n",
        "  \n",
        "\n",
        "import os\n",
        "#  iam using  lot of folders and play around the folders we need this \n",
        "import matplotlib.pyplot as plt\n",
        "# to display the image\n",
        "import numpy as np\n",
        "# To do mathmatices operations \n",
        "from skimage.io import imread\n",
        "# To read  the images and image processsing  \n",
        "from skimage.transform import  resize\n",
        "# all of our  images should  me some specific size\n",
        "\n",
        "# target =[] for output\n",
        "target = []\n",
        "#images  =[] for input\n",
        "images =[]\n",
        "flat_data=[]\n",
        "\n",
        "DATADIR = \"/content/drive/MyDrive/Mini Project/project images/mini project Images\"\n",
        "Catergories = [\"Cars\",'ruby ball','cone ice cream']\n",
        "\n",
        "for catergory in  Catergories: \n",
        "  #print(catergory)\n",
        "  class_num = Catergories.index(catergory) # label encoding  the values \n",
        "  #print(class_num)\n",
        "  path = os.path.join(DATADIR,catergory) # create path to use   all the images\n",
        "  #print(path)\n",
        "  for img in os.listdir(path):\n",
        "    img_array=  imread(os.path.join(path ,img))\n",
        "    #print(img_array.shape)\n",
        "    #plt.imshow(img_array)\n",
        "    #break\n",
        "    img_resized = resize(img_array,(150,150,3)) # normalizes the values  from 0 to 1\n",
        "    flat_data.append(img_resized.flatten())\n",
        "    images.append(img_resized)\n",
        "    target.append(class_num)\n",
        "\n",
        "flat_data = np.array(flat_data)\n",
        "target = np.array(target)\n",
        "images = np.array(images)\n"
      ],
      "execution_count": 113,
      "outputs": []
    },
    {
      "cell_type": "code",
      "metadata": {
        "colab": {
          "base_uri": "https://localhost:8080/"
        },
        "id": "HMszjwy938m9",
        "outputId": "6477eb39-b6b7-4ae3-c578-2069b987dde6"
      },
      "source": [
        "\n",
        "len(flat_data[0])\n"
      ],
      "execution_count": 114,
      "outputs": [
        {
          "output_type": "execute_result",
          "data": {
            "text/plain": [
              "67500"
            ]
          },
          "metadata": {
            "tags": []
          },
          "execution_count": 114
        }
      ]
    },
    {
      "cell_type": "code",
      "metadata": {
        "colab": {
          "base_uri": "https://localhost:8080/"
        },
        "id": "-rq4MTP_LE5d",
        "outputId": "db139124-5a99-41b7-cb0f-411f76c24d42"
      },
      "source": [
        "150*150"
      ],
      "execution_count": 115,
      "outputs": [
        {
          "output_type": "execute_result",
          "data": {
            "text/plain": [
              "22500"
            ]
          },
          "metadata": {
            "tags": []
          },
          "execution_count": 115
        }
      ]
    },
    {
      "cell_type": "code",
      "metadata": {
        "colab": {
          "base_uri": "https://localhost:8080/"
        },
        "id": "xwoqqoaILIOm",
        "outputId": "db3ff24d-d9f1-4e64-8fd3-d576cdf439a1"
      },
      "source": [
        "target"
      ],
      "execution_count": 116,
      "outputs": [
        {
          "output_type": "execute_result",
          "data": {
            "text/plain": [
              "array([0, 0, 0, 0, 0, 0, 0, 0, 0, 0, 0, 0, 0, 0, 0, 0, 0, 1, 1, 1, 1, 1,\n",
              "       1, 1, 1, 1, 1, 1, 1, 1, 1, 1, 1, 2, 2, 2, 2, 2, 2, 2, 2, 2, 2, 2,\n",
              "       2, 2, 2, 2])"
            ]
          },
          "metadata": {
            "tags": []
          },
          "execution_count": 116
        }
      ]
    },
    {
      "cell_type": "code",
      "metadata": {
        "colab": {
          "base_uri": "https://localhost:8080/",
          "height": 282
        },
        "id": "rZff2XGSLLnw",
        "outputId": "8c0d8a59-88e1-416d-dc7e-688f3dda0080"
      },
      "source": [
        " unique,count = np.unique(target, return_counts= True)\n",
        " plt.bar(Catergories,count)"
      ],
      "execution_count": 117,
      "outputs": [
        {
          "output_type": "execute_result",
          "data": {
            "text/plain": [
              "<BarContainer object of 3 artists>"
            ]
          },
          "metadata": {
            "tags": []
          },
          "execution_count": 117
        },
        {
          "output_type": "display_data",
          "data": {
            "image/png": "[encoded data removed]",
            "text/plain": [
              "<Figure size 432x288 with 1 Axes>"
            ]
          },
          "metadata": {
            "tags": [],
            "needs_background": "light"
          }
        }
      ]
    },
    {
      "cell_type": "code",
      "metadata": {
        "id": "9eVo_2fWLPMp"
      },
      "source": [
        "#  Next step  into  Training and Testing \n",
        "from  sklearn.model_selection  import train_test_split\n",
        "x_train, x_test, y_train,y_test = train_test_split(flat_data,target,test_size=0.3,random_state=109)"
      ],
      "execution_count": 118,
      "outputs": []
    },
    {
      "cell_type": "code",
      "metadata": {
        "colab": {
          "base_uri": "https://localhost:8080/"
        },
        "id": "nwTIui9uLTru",
        "outputId": "1a2029ee-1deb-45a2-cc13-21d719eba652"
      },
      "source": [
        "from sklearn.model_selection import GridSearchCV\n",
        "from sklearn import svm\n",
        "param_grid = [\n",
        "             {'C':[1,10,100,1000], \"kernel\":['linear']},\n",
        "             {'C':[1,10,100,1000],\"gamma\":[0.001,0.0001], \"kernel\":['rbf']},\n",
        "\n",
        "]\n",
        "svc = svm.SVC(probability=True)\n",
        "clf =   GridSearchCV(svc,param_grid)\n",
        "clf.fit(x_train,y_train)\n",
        "\n",
        "\n"
      ],
      "execution_count": 119,
      "outputs": [
        {
          "output_type": "execute_result",
          "data": {
            "text/plain": [
              "GridSearchCV(cv=None, error_score=nan,\n",
              "             estimator=SVC(C=1.0, break_ties=False, cache_size=200,\n",
              "                           class_weight=None, coef0=0.0,\n",
              "                           decision_function_shape='ovr', degree=3,\n",
              "                           gamma='scale', kernel='rbf', max_iter=-1,\n",
              "                           probability=True, random_state=None, shrinking=True,\n",
              "                           tol=0.001, verbose=False),\n",
              "             iid='deprecated', n_jobs=None,\n",
              "             param_grid=[{'C': [1, 10, 100, 1000], 'kernel': ['linear']},\n",
              "                         {'C': [1, 10, 100, 1000], 'gamma': [0.001, 0.0001],\n",
              "                          'kernel': ['rbf']}],\n",
              "             pre_dispatch='2*n_jobs', refit=True, return_train_score=False,\n",
              "             scoring=None, verbose=0)"
            ]
          },
          "metadata": {
            "tags": []
          },
          "execution_count": 119
        }
      ]
    },
    {
      "cell_type": "code",
      "metadata": {
        "colab": {
          "base_uri": "https://localhost:8080/"
        },
        "id": "U7EZIZ0RLXfV",
        "outputId": "7f5dacad-14df-4083-fcf5-7f72b83fa143"
      },
      "source": [
        "y_pred =  clf.predict(x_test)\n",
        "y_pred"
      ],
      "execution_count": 120,
      "outputs": [
        {
          "output_type": "execute_result",
          "data": {
            "text/plain": [
              "array([1, 1, 1, 2, 2, 1, 1, 1, 0, 0, 1, 2, 0, 2, 2])"
            ]
          },
          "metadata": {
            "tags": []
          },
          "execution_count": 120
        }
      ]
    },
    {
      "cell_type": "code",
      "metadata": {
        "colab": {
          "base_uri": "https://localhost:8080/"
        },
        "id": "ePONol2JL3Cj",
        "outputId": "23f99237-8960-4a17-fa2d-5aebb37b10c6"
      },
      "source": [
        "y_test"
      ],
      "execution_count": 121,
      "outputs": [
        {
          "output_type": "execute_result",
          "data": {
            "text/plain": [
              "array([1, 1, 1, 2, 2, 1, 1, 1, 0, 0, 1, 2, 1, 2, 2])"
            ]
          },
          "metadata": {
            "tags": []
          },
          "execution_count": 121
        }
      ]
    },
    {
      "cell_type": "code",
      "metadata": {
        "id": "_uGBH_s1L8pt"
      },
      "source": [
        "from sklearn.metrics import accuracy_score , confusion_matrix"
      ],
      "execution_count": 122,
      "outputs": []
    },
    {
      "cell_type": "code",
      "metadata": {
        "colab": {
          "base_uri": "https://localhost:8080/"
        },
        "id": "Psh55qHUMBBX",
        "outputId": "e498a193-7154-4e09-b335-32dfdfe61ded"
      },
      "source": [
        "accuracy_score(y_pred,y_test)"
      ],
      "execution_count": 123,
      "outputs": [
        {
          "output_type": "execute_result",
          "data": {
            "text/plain": [
              "0.9333333333333333"
            ]
          },
          "metadata": {
            "tags": []
          },
          "execution_count": 123
        }
      ]
    },
    {
      "cell_type": "code",
      "metadata": {
        "colab": {
          "base_uri": "https://localhost:8080/"
        },
        "id": "IwaUdttDMEcl",
        "outputId": "9d32bb27-fc6c-4456-a4e3-3babdcaec299"
      },
      "source": [
        "confusion_matrix(y_pred, y_test) # evaluation of matrix to check whether there is prediction is correct or not"
      ],
      "execution_count": 75,
      "outputs": [
        {
          "output_type": "execute_result",
          "data": {
            "text/plain": [
              "array([[2, 1, 0],\n",
              "       [0, 6, 0],\n",
              "       [0, 1, 5]])"
            ]
          },
          "metadata": {
            "tags": []
          },
          "execution_count": 75
        }
      ]
    },
    {
      "cell_type": "code",
      "metadata": {
        "id": "gCHkVr0uMJDa"
      },
      "source": [
        "# Save the Model  using Pickle library \n",
        "# wb means  write the bite  and store in the model  to avoid the reruning  the data again and agian \n",
        "import pickle   \n",
        "pickle.dump(clf,open(\"mini_img_model.p\",\"wb\")) "
      ],
      "execution_count": 76,
      "outputs": []
    },
    {
      "cell_type": "code",
      "metadata": {
        "id": "5WiC6u1vMNLO"
      },
      "source": [
        "model =  pickle.load(open(\"mini_img_model.p\",\"rb\"))\n",
        "# rb means  reading the bite"
      ],
      "execution_count": 77,
      "outputs": []
    },
    {
      "cell_type": "code",
      "metadata": {
        "colab": {
          "base_uri": "https://localhost:8080/",
          "height": 340
        },
        "id": "7WDJ7s0aM0cz",
        "outputId": "e9950cf1-2cd8-440c-81df-7f2342491427"
      },
      "source": [
        "# testing the brand new image\n",
        "flat_data =[]\n",
        "url = input(\"Enter The url for  Image classfication\")\n",
        "img =imread(url)\n",
        "img_resized = resize(img,(150,150,3))\n",
        "flat_data.append(img_resized.flatten())\n",
        "flat_data=np.array(flat_data)\n",
        "print(img.shape)\n",
        "plt.imshow(img_resized)\n",
        "y_out = model.predict(flat_data)\n",
        "y_out = Catergories[y_out[0]] \n",
        "print(f\"Predicted Output : {y_out}\") \n"
      ],
      "execution_count": 133,
      "outputs": [
        {
          "output_type": "stream",
          "text": [
            "Enter The url for  Image classficationhttps://www.electrive.com/wp-content/uploads/2020/01/tata-motors-nexon-ev-indien-india-2020-04.png\n",
            "(750, 1500, 4)\n",
            "Predicted Output : Cars\n"
          ],
          "name": "stdout"
        },
        {
          "output_type": "display_data",
          "data": {
            "image/png": "[encoded data removed]",
            "text/plain": [
              "<Figure size 432x288 with 1 Axes>"
            ]
          },
          "metadata": {
            "tags": [],
            "needs_background": "light"
          }
        }
      ]
    },
    {
      "cell_type": "code",
      "metadata": {
        "colab": {
          "base_uri": "https://localhost:8080/"
        },
        "id": "nIzOHnCGM4MG",
        "outputId": "8c9554af-1e85-4012-e9ef-8a322f50e225"
      },
      "source": [
        "!pip install streamlit --quiet\n",
        "!pip install pyngrok==4.1.1 --quiet\n",
        "from pyngrok import ngrok"
      ],
      "execution_count": 19,
      "outputs": [
        {
          "output_type": "stream",
          "text": [
            "\u001b[K     |████████████████████████████████| 8.2MB 5.4MB/s \n",
            "\u001b[K     |████████████████████████████████| 112kB 46.7MB/s \n",
            "\u001b[K     |████████████████████████████████| 81kB 8.1MB/s \n",
            "\u001b[K     |████████████████████████████████| 4.2MB 40.8MB/s \n",
            "\u001b[K     |████████████████████████████████| 92kB 8.7MB/s \n",
            "\u001b[K     |████████████████████████████████| 174kB 42.2MB/s \n",
            "\u001b[K     |████████████████████████████████| 122kB 41.2MB/s \n",
            "\u001b[K     |████████████████████████████████| 71kB 7.2MB/s \n",
            "\u001b[?25h  Building wheel for blinker (setup.py) ... \u001b[?25l\u001b[?25hdone\n",
            "\u001b[31mERROR: google-colab 1.0.0 has requirement ipykernel~=4.10, but you'll have ipykernel 5.5.5 which is incompatible.\u001b[0m\n",
            "  Building wheel for pyngrok (setup.py) ... \u001b[?25l\u001b[?25hdone\n"
          ],
          "name": "stdout"
        }
      ]
    },
    {
      "cell_type": "code",
      "metadata": {
        "id": "ztdLkhPWNDs7"
      },
      "source": [
        "# deployment\n",
        "# 1 webpage - html / css / JS - Flask /django\n",
        "# 2 web app - strean lit/ dash\n",
        "# 3 mobile app - kotlin/java\n"
      ],
      "execution_count": 20,
      "outputs": []
    },
    {
      "cell_type": "code",
      "metadata": {
        "colab": {
          "base_uri": "https://localhost:8080/"
        },
        "id": "LMShhtAWNc72",
        "outputId": "d90cc901-fb89-4539-d6a8-aabf18a7516f"
      },
      "source": [
        "%%writefile  imcapp.py\n",
        "import streamlit as st\n",
        "import numpy as np\n",
        "from skimage.io import imread\n",
        "from skimage.transform import  resize\n",
        "import pickle\n",
        "from PIL import Image\n",
        "st.title(\"Image Classifier using Machine learning \")\n",
        "st.text(\"developed by Hanok-IIT Madras\")\n",
        "st.text(\"upload the Images only Car, Ruby Ball or Cone Ice Cream\")\n",
        "\n",
        "model =  pickle.load(open(\"mini_img_model.p\",\"rb\"))\n",
        "\n",
        "uploaded_file = st.file_uploader(\"Choose an Image..\",type=\"jpg\")\n",
        "if uploaded_file is not None:\n",
        "  img = Image.open(uploaded_file)\n",
        "  st.image(img,caption=\"Uploaded Image\")\n",
        "\n",
        "  if st.button(\"PREDICT IMAGE\"):\n",
        "    Catergories = [\"Cars\",'ruby ball','cone ice cream']\n",
        "    st.write(\"PREDICTED RESULT:\")\n",
        "    flat_data=[]\n",
        "    img = np.array(img)\n",
        "    img_resized = resize(img,(150,150,3))\n",
        "    flat_data.append(img_resized.flatten())\n",
        "    flat_data=np.array(flat_data)\n",
        "    y_out = model.predict(flat_data)\n",
        "    y_out = Catergories[y_out[0]] \n",
        "    st.write(f\"Predicted Output:{y_out}\") \n",
        "\n"
      ],
      "execution_count": 127,
      "outputs": [
        {
          "output_type": "stream",
          "text": [
            "Overwriting imcapp.py\n"
          ],
          "name": "stdout"
        }
      ]
    },
    {
      "cell_type": "code",
      "metadata": {
        "colab": {
          "base_uri": "https://localhost:8080/",
          "height": 52
        },
        "id": "SKZUMRP6Nh0P",
        "outputId": "87e22f07-4d88-4952-844a-b2788391466a"
      },
      "source": [
        "!nohup streamlit run imcapp.py &\n",
        "\n",
        "url = ngrok.connect(port=\"8501\")\n",
        "url"
      ],
      "execution_count": 22,
      "outputs": [
        {
          "output_type": "stream",
          "text": [
            "nohup: appending output to 'nohup.out'\n"
          ],
          "name": "stdout"
        },
        {
          "output_type": "execute_result",
          "data": {
            "application/vnd.google.colaboratory.intrinsic+json": {
              "type": "string"
            },
            "text/plain": [
              "'http://96b1711c3125.ngrok.io'"
            ]
          },
          "metadata": {
            "tags": []
          },
          "execution_count": 22
        }
      ]
    },
    {
      "cell_type": "code",
      "metadata": {
        "id": "ZtE9ULMHNnqG"
      },
      "source": [
        ""
      ],
      "execution_count": 22,
      "outputs": []
    }
  ]
}